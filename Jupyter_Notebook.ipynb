{
 "cells": [
  {
   "cell_type": "markdown",
   "metadata": {},
   "source": [
    "<center>\n",
    "    <img src=\"https://cf-courses-data.s3.us.cloud-object-storage.appdomain.cloud/IBMDeveloperSkillsNetwork-DS0105EN-SkillsNetwork/labs/Module2/images/SN_web_lightmode.png\" width=\"300\" alt=\"cognitiveclass.ai logo\">\n",
    "</center>\n"
   ]
  },
  {
   "cell_type": "markdown",
   "metadata": {
    "tags": []
   },
   "source": [
    "#### Add your code below following the instructions given in the course\n"
   ]
  },
  {
   "cell_type": "markdown",
   "metadata": {},
   "source": [
    "My_Work"
   ]
  },
  {
   "cell_type": "markdown",
   "metadata": {},
   "source": [
    "introduction"
   ]
  },
  {
   "cell_type": "markdown",
   "metadata": {},
   "source": [
    "R - SQL - Python"
   ]
  },
  {
   "cell_type": "markdown",
   "metadata": {},
   "source": [
    "Python:\n",
    "\n",
    "NumPy: A fundamental library for numerical computing with support for large, multi-dimensional arrays and mathematical functions.\n",
    "pandas: Provides data structures and data analysis tools for handling structured data, such as data frames.\n",
    "scikit-learn: A comprehensive machine learning library with various algorithms for classification, regression, clustering, and dimensionality reduction.\n",
    "TensorFlow: An open-source library for machine learning and deep learning, widely used for building and training neural networks.\n",
    "PyTorch: A deep learning framework that provides dynamic computational graphs and a high-level interface for building and training neural networks.\n",
    "Matplotlib: A plotting library for creating static, animated, and interactive visualizations in Python.\n",
    "Seaborn: A data visualization library based on Matplotlib that provides a higher-level interface for creating attractive and informative statistical graphics.\n",
    "R:\n",
    "\n",
    "dplyr: A library for data manipulation and transformation, offering a consistent and intuitive grammar for data manipulation tasks.\n",
    "ggplot2: A powerful library for creating visually appealing and customizable data visualizations.\n",
    "caret: A comprehensive library for machine learning and statistical modeling, providing a consistent interface to many algorithms and evaluation methods.\n",
    "randomForest: A library focused on random forests, an ensemble learning method for classification and regression tasks."
   ]
  },
  {
   "cell_type": "markdown",
   "metadata": {},
   "source": [
    "| Language   | Library       | Description                                                                                      |\n",
    "|------------|---------------|--------------------------------------------------------------------------------------------------|\n",
    "| Python     | NumPy         | Fundamental library for numerical computing and large, multi-dimensional arrays.                 |\n",
    "| Python     | pandas        | Data structures and analysis tools for handling structured data.                                 |\n",
    "| Python     | scikit-learn  | Comprehensive machine learning library with various algorithms for classification and regression.|\n",
    "| Python     | TensorFlow    | Open-source library for machine learning and deep learning, widely used for neural networks.      |\n",
    "| Python     | PyTorch       | Deep learning framework with dynamic computational graphs and high-level interface for neural nets.|\n",
    "| Python     | Matplotlib    | Plotting library for creating static, animated, and interactive visualizations in Python.         |\n",
    "| Python     | Seaborn       | Data visualization library based on Matplotlib, providing a higher-level interface.              |\n",
    "| R          | dplyr         | Library for data manipulation and transformation, with a consistent and intuitive grammar.       |\n",
    "| R          | ggplot2       | Powerful library for creating visually appealing and customizable data visualizations.            |\n",
    "| R          | caret         | Comprehensive library for machine learning and statistical modeling.                             |\n",
    "| R          | randomForest  | Library focused on random forests, an ensemble learning method for classification and regression. |"
   ]
  },
  {
   "cell_type": "markdown",
   "metadata": {
    "tags": []
   },
   "source": [
    "## Arithmetic Expression Examples\n",
    "\n",
    "Arithmetic expressions are mathematical expressions that involve mathematical operations like addition, subtraction, multiplication, and division. They are a fundamental part of mathematics and programming. Here are some examples of arithmetic expressions:\n",
    "\n",
    "1. Addition: The `+` operator is used for addition. For example, `2 + 3` evaluates to `5`.\n",
    "\n",
    "2. Subtraction: The `-` operator is used for subtraction. For example, `5 - 2` evaluates to `3`.\n",
    "\n",
    "3. Multiplication: The `*` operator is used for multiplication. For example, `4 * 2` evaluates to `8`.\n",
    "\n",
    "4. Division: The `/` operator is used for division. For example, `10 / 2` evaluates to `5`.\n",
    "\n",
    "5. Modulo: The `%` operator is used for modulo, which gives the remainder of a division operation. For example, `7 % 3` evaluates to `1`.\n",
    "\n",
    "Arithmetic expressions can also include parentheses to control the order of operations. For example, `(4 + 2) * 3` evaluates to `18`, as the addition is performed first due to the parentheses.\n",
    "\n",
    "These are just a few examples of arithmetic expressions. They can be as simple as single operations or more complex, involving multiple operations and variables. Arithmetic expressions are widely used in mathematics, programming, and data analysis to perform calculations and manipulate numerical data."
   ]
  },
  {
   "cell_type": "code",
   "execution_count": 2,
   "metadata": {
    "tags": []
   },
   "outputs": [
    {
     "name": "stdout",
     "output_type": "stream",
     "text": [
      "Product: 15\n",
      "Sum: 17\n"
     ]
    }
   ],
   "source": [
    "# Multiply two numbers\n",
    "num1 = 5\n",
    "num2 = 3\n",
    "product = num1 * num2\n",
    "print(\"Product:\", product)\n",
    "\n",
    "# Add two numbers\n",
    "num3 = 10\n",
    "num4 = 7\n",
    "sum = num3 + num4\n",
    "print(\"Sum:\", sum)"
   ]
  },
  {
   "cell_type": "code",
   "execution_count": 3,
   "metadata": {
    "tags": []
   },
   "outputs": [
    {
     "name": "stdout",
     "output_type": "stream",
     "text": [
      "Minutes: 150\n",
      "Hours: 2.5\n"
     ]
    }
   ],
   "source": [
    "# Convert minutes to hours\n",
    "minutes = 150\n",
    "hours = minutes / 60\n",
    "\n",
    "print(\"Minutes:\", minutes)\n",
    "print(\"Hours:\", hours)"
   ]
  },
  {
   "cell_type": "markdown",
   "metadata": {},
   "source": [
    "## Objectives\n",
    "\n",
    "In this exercise, we aim to accomplish the following objectives:\n",
    "\n",
    "1. Introduction to arithmetic expressions: Understand the basics of arithmetic expressions and the common mathematical operations involved, such as addition, subtraction, multiplication, division, and modulo.\n",
    "\n",
    "2. Practice with multiplication and addition: Perform multiplication and addition operations on given numbers using Python code.\n",
    "\n",
    "3. Conversion of minutes to hours: Write code to convert a given number of minutes into hours and display the result.\n",
    "\n",
    "By completing this exercise, you will gain hands-on experience with arithmetic expressions and basic mathematical operations in Python, as well as learn how to convert units of time from minutes to hours."
   ]
  },
  {
   "cell_type": "markdown",
   "metadata": {},
   "source": [
    "**Author: Your Name**\n",
    "\n",
    "This exercise was created by [Your Name]. If you have any questions or need further assistance, please feel free to reach out."
   ]
  }
 ],
 "metadata": {
  "kernelspec": {
   "display_name": "Python",
   "language": "python",
   "name": "conda-env-python-py"
  },
  "language_info": {
   "codemirror_mode": {
    "name": "ipython",
    "version": 3
   },
   "file_extension": ".py",
   "mimetype": "text/x-python",
   "name": "python",
   "nbconvert_exporter": "python",
   "pygments_lexer": "ipython3",
   "version": "3.7.12"
  }
 },
 "nbformat": 4,
 "nbformat_minor": 4
}
